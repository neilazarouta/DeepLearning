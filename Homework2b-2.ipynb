{
  "nbformat": 4,
  "nbformat_minor": 0,
  "metadata": {
    "colab": {
      "name": "Homework2b.ipynb",
      "provenance": [],
      "collapsed_sections": []
    },
    "kernelspec": {
      "name": "python3",
      "display_name": "Python 3"
    },
    "language_info": {
      "name": "python"
    },
    "accelerator": "GPU",
    "widgets": {
      "application/vnd.jupyter.widget-state+json": {
        "bbd29b3253d947e99d4d818f5b8948dd": {
          "model_module": "@jupyter-widgets/controls",
          "model_name": "HBoxModel",
          "model_module_version": "1.5.0",
          "state": {
            "_view_name": "HBoxView",
            "_dom_classes": [],
            "_model_name": "HBoxModel",
            "_view_module": "@jupyter-widgets/controls",
            "_model_module_version": "1.5.0",
            "_view_count": null,
            "_view_module_version": "1.5.0",
            "box_style": "",
            "layout": "IPY_MODEL_efb35f9562534277975a6af3b8ac5f38",
            "_model_module": "@jupyter-widgets/controls",
            "children": [
              "IPY_MODEL_a4eecd5a16bb481ab0ad7ae223b9d835",
              "IPY_MODEL_b2ebea0ad75d470a807a7b53fe7e2f1e",
              "IPY_MODEL_4b21b22d2f534469af853b52a6af6f88"
            ]
          }
        },
        "efb35f9562534277975a6af3b8ac5f38": {
          "model_module": "@jupyter-widgets/base",
          "model_name": "LayoutModel",
          "model_module_version": "1.2.0",
          "state": {
            "_view_name": "LayoutView",
            "grid_template_rows": null,
            "right": null,
            "justify_content": null,
            "_view_module": "@jupyter-widgets/base",
            "overflow": null,
            "_model_module_version": "1.2.0",
            "_view_count": null,
            "flex_flow": null,
            "width": null,
            "min_width": null,
            "border": null,
            "align_items": null,
            "bottom": null,
            "_model_module": "@jupyter-widgets/base",
            "top": null,
            "grid_column": null,
            "overflow_y": null,
            "overflow_x": null,
            "grid_auto_flow": null,
            "grid_area": null,
            "grid_template_columns": null,
            "flex": null,
            "_model_name": "LayoutModel",
            "justify_items": null,
            "grid_row": null,
            "max_height": null,
            "align_content": null,
            "visibility": null,
            "align_self": null,
            "height": null,
            "min_height": null,
            "padding": null,
            "grid_auto_rows": null,
            "grid_gap": null,
            "max_width": null,
            "order": null,
            "_view_module_version": "1.2.0",
            "grid_template_areas": null,
            "object_position": null,
            "object_fit": null,
            "grid_auto_columns": null,
            "margin": null,
            "display": null,
            "left": null
          }
        },
        "a4eecd5a16bb481ab0ad7ae223b9d835": {
          "model_module": "@jupyter-widgets/controls",
          "model_name": "HTMLModel",
          "model_module_version": "1.5.0",
          "state": {
            "_view_name": "HTMLView",
            "style": "IPY_MODEL_36b57c5bf26b4a42b9b98267e90e60d2",
            "_dom_classes": [],
            "description": "",
            "_model_name": "HTMLModel",
            "placeholder": "​",
            "_view_module": "@jupyter-widgets/controls",
            "_model_module_version": "1.5.0",
            "value": "Epoch: 99, Train Loss: 0.07 Acc: 0.974\tTest Loss: 1.547 Acc: 0.688: 100%",
            "_view_count": null,
            "_view_module_version": "1.5.0",
            "description_tooltip": null,
            "_model_module": "@jupyter-widgets/controls",
            "layout": "IPY_MODEL_148d43e1a8b94833b17fc9352e708954"
          }
        },
        "b2ebea0ad75d470a807a7b53fe7e2f1e": {
          "model_module": "@jupyter-widgets/controls",
          "model_name": "FloatProgressModel",
          "model_module_version": "1.5.0",
          "state": {
            "_view_name": "ProgressView",
            "style": "IPY_MODEL_be09b7ba7b264cceb087df32e3bf0e7d",
            "_dom_classes": [],
            "description": "",
            "_model_name": "FloatProgressModel",
            "bar_style": "success",
            "max": 100,
            "_view_module": "@jupyter-widgets/controls",
            "_model_module_version": "1.5.0",
            "value": 100,
            "_view_count": null,
            "_view_module_version": "1.5.0",
            "orientation": "horizontal",
            "min": 0,
            "description_tooltip": null,
            "_model_module": "@jupyter-widgets/controls",
            "layout": "IPY_MODEL_a5b63ade337c48f1a94f2984e59a09cc"
          }
        },
        "4b21b22d2f534469af853b52a6af6f88": {
          "model_module": "@jupyter-widgets/controls",
          "model_name": "HTMLModel",
          "model_module_version": "1.5.0",
          "state": {
            "_view_name": "HTMLView",
            "style": "IPY_MODEL_c20df9fd19244436bee160165f65ef81",
            "_dom_classes": [],
            "description": "",
            "_model_name": "HTMLModel",
            "placeholder": "​",
            "_view_module": "@jupyter-widgets/controls",
            "_model_module_version": "1.5.0",
            "value": " 100/100 [06:35&lt;00:00,  3.78s/it]",
            "_view_count": null,
            "_view_module_version": "1.5.0",
            "description_tooltip": null,
            "_model_module": "@jupyter-widgets/controls",
            "layout": "IPY_MODEL_4e1173c07c9b407d9f47cfd137a6f951"
          }
        },
        "36b57c5bf26b4a42b9b98267e90e60d2": {
          "model_module": "@jupyter-widgets/controls",
          "model_name": "DescriptionStyleModel",
          "model_module_version": "1.5.0",
          "state": {
            "_view_name": "StyleView",
            "_model_name": "DescriptionStyleModel",
            "description_width": "",
            "_view_module": "@jupyter-widgets/base",
            "_model_module_version": "1.5.0",
            "_view_count": null,
            "_view_module_version": "1.2.0",
            "_model_module": "@jupyter-widgets/controls"
          }
        },
        "148d43e1a8b94833b17fc9352e708954": {
          "model_module": "@jupyter-widgets/base",
          "model_name": "LayoutModel",
          "model_module_version": "1.2.0",
          "state": {
            "_view_name": "LayoutView",
            "grid_template_rows": null,
            "right": null,
            "justify_content": null,
            "_view_module": "@jupyter-widgets/base",
            "overflow": null,
            "_model_module_version": "1.2.0",
            "_view_count": null,
            "flex_flow": null,
            "width": null,
            "min_width": null,
            "border": null,
            "align_items": null,
            "bottom": null,
            "_model_module": "@jupyter-widgets/base",
            "top": null,
            "grid_column": null,
            "overflow_y": null,
            "overflow_x": null,
            "grid_auto_flow": null,
            "grid_area": null,
            "grid_template_columns": null,
            "flex": null,
            "_model_name": "LayoutModel",
            "justify_items": null,
            "grid_row": null,
            "max_height": null,
            "align_content": null,
            "visibility": null,
            "align_self": null,
            "height": null,
            "min_height": null,
            "padding": null,
            "grid_auto_rows": null,
            "grid_gap": null,
            "max_width": null,
            "order": null,
            "_view_module_version": "1.2.0",
            "grid_template_areas": null,
            "object_position": null,
            "object_fit": null,
            "grid_auto_columns": null,
            "margin": null,
            "display": null,
            "left": null
          }
        },
        "be09b7ba7b264cceb087df32e3bf0e7d": {
          "model_module": "@jupyter-widgets/controls",
          "model_name": "ProgressStyleModel",
          "model_module_version": "1.5.0",
          "state": {
            "_view_name": "StyleView",
            "_model_name": "ProgressStyleModel",
            "description_width": "",
            "_view_module": "@jupyter-widgets/base",
            "_model_module_version": "1.5.0",
            "_view_count": null,
            "_view_module_version": "1.2.0",
            "bar_color": null,
            "_model_module": "@jupyter-widgets/controls"
          }
        },
        "a5b63ade337c48f1a94f2984e59a09cc": {
          "model_module": "@jupyter-widgets/base",
          "model_name": "LayoutModel",
          "model_module_version": "1.2.0",
          "state": {
            "_view_name": "LayoutView",
            "grid_template_rows": null,
            "right": null,
            "justify_content": null,
            "_view_module": "@jupyter-widgets/base",
            "overflow": null,
            "_model_module_version": "1.2.0",
            "_view_count": null,
            "flex_flow": null,
            "width": null,
            "min_width": null,
            "border": null,
            "align_items": null,
            "bottom": null,
            "_model_module": "@jupyter-widgets/base",
            "top": null,
            "grid_column": null,
            "overflow_y": null,
            "overflow_x": null,
            "grid_auto_flow": null,
            "grid_area": null,
            "grid_template_columns": null,
            "flex": null,
            "_model_name": "LayoutModel",
            "justify_items": null,
            "grid_row": null,
            "max_height": null,
            "align_content": null,
            "visibility": null,
            "align_self": null,
            "height": null,
            "min_height": null,
            "padding": null,
            "grid_auto_rows": null,
            "grid_gap": null,
            "max_width": null,
            "order": null,
            "_view_module_version": "1.2.0",
            "grid_template_areas": null,
            "object_position": null,
            "object_fit": null,
            "grid_auto_columns": null,
            "margin": null,
            "display": null,
            "left": null
          }
        },
        "c20df9fd19244436bee160165f65ef81": {
          "model_module": "@jupyter-widgets/controls",
          "model_name": "DescriptionStyleModel",
          "model_module_version": "1.5.0",
          "state": {
            "_view_name": "StyleView",
            "_model_name": "DescriptionStyleModel",
            "description_width": "",
            "_view_module": "@jupyter-widgets/base",
            "_model_module_version": "1.5.0",
            "_view_count": null,
            "_view_module_version": "1.2.0",
            "_model_module": "@jupyter-widgets/controls"
          }
        },
        "4e1173c07c9b407d9f47cfd137a6f951": {
          "model_module": "@jupyter-widgets/base",
          "model_name": "LayoutModel",
          "model_module_version": "1.2.0",
          "state": {
            "_view_name": "LayoutView",
            "grid_template_rows": null,
            "right": null,
            "justify_content": null,
            "_view_module": "@jupyter-widgets/base",
            "overflow": null,
            "_model_module_version": "1.2.0",
            "_view_count": null,
            "flex_flow": null,
            "width": null,
            "min_width": null,
            "border": null,
            "align_items": null,
            "bottom": null,
            "_model_module": "@jupyter-widgets/base",
            "top": null,
            "grid_column": null,
            "overflow_y": null,
            "overflow_x": null,
            "grid_auto_flow": null,
            "grid_area": null,
            "grid_template_columns": null,
            "flex": null,
            "_model_name": "LayoutModel",
            "justify_items": null,
            "grid_row": null,
            "max_height": null,
            "align_content": null,
            "visibility": null,
            "align_self": null,
            "height": null,
            "min_height": null,
            "padding": null,
            "grid_auto_rows": null,
            "grid_gap": null,
            "max_width": null,
            "order": null,
            "_view_module_version": "1.2.0",
            "grid_template_areas": null,
            "object_position": null,
            "object_fit": null,
            "grid_auto_columns": null,
            "margin": null,
            "display": null,
            "left": null
          }
        },
        "8f682f1c1bc04e018804c03db53646ec": {
          "model_module": "@jupyter-widgets/controls",
          "model_name": "HBoxModel",
          "model_module_version": "1.5.0",
          "state": {
            "_view_name": "HBoxView",
            "_dom_classes": [],
            "_model_name": "HBoxModel",
            "_view_module": "@jupyter-widgets/controls",
            "_model_module_version": "1.5.0",
            "_view_count": null,
            "_view_module_version": "1.5.0",
            "box_style": "",
            "layout": "IPY_MODEL_117dacda2f1f40d094b20cbc36d113ab",
            "_model_module": "@jupyter-widgets/controls",
            "children": [
              "IPY_MODEL_ef1362659772472b989ebd65650525a8",
              "IPY_MODEL_97d187cc599649cd847019f0a4f2a079",
              "IPY_MODEL_035eeb4bb6c248e897b8ffbee07edfbe"
            ]
          }
        },
        "117dacda2f1f40d094b20cbc36d113ab": {
          "model_module": "@jupyter-widgets/base",
          "model_name": "LayoutModel",
          "model_module_version": "1.2.0",
          "state": {
            "_view_name": "LayoutView",
            "grid_template_rows": null,
            "right": null,
            "justify_content": null,
            "_view_module": "@jupyter-widgets/base",
            "overflow": null,
            "_model_module_version": "1.2.0",
            "_view_count": null,
            "flex_flow": null,
            "width": null,
            "min_width": null,
            "border": null,
            "align_items": null,
            "bottom": null,
            "_model_module": "@jupyter-widgets/base",
            "top": null,
            "grid_column": null,
            "overflow_y": null,
            "overflow_x": null,
            "grid_auto_flow": null,
            "grid_area": null,
            "grid_template_columns": null,
            "flex": null,
            "_model_name": "LayoutModel",
            "justify_items": null,
            "grid_row": null,
            "max_height": null,
            "align_content": null,
            "visibility": null,
            "align_self": null,
            "height": null,
            "min_height": null,
            "padding": null,
            "grid_auto_rows": null,
            "grid_gap": null,
            "max_width": null,
            "order": null,
            "_view_module_version": "1.2.0",
            "grid_template_areas": null,
            "object_position": null,
            "object_fit": null,
            "grid_auto_columns": null,
            "margin": null,
            "display": null,
            "left": null
          }
        },
        "ef1362659772472b989ebd65650525a8": {
          "model_module": "@jupyter-widgets/controls",
          "model_name": "HTMLModel",
          "model_module_version": "1.5.0",
          "state": {
            "_view_name": "HTMLView",
            "style": "IPY_MODEL_89e73715d5b640c6b3a9337a90038044",
            "_dom_classes": [],
            "description": "",
            "_model_name": "HTMLModel",
            "placeholder": "​",
            "_view_module": "@jupyter-widgets/controls",
            "_model_module_version": "1.5.0",
            "value": "Epoch: 99, Train Loss: 0.0 Acc: 1.0\tTest Loss: 0.378 Acc: 0.938: 100%",
            "_view_count": null,
            "_view_module_version": "1.5.0",
            "description_tooltip": null,
            "_model_module": "@jupyter-widgets/controls",
            "layout": "IPY_MODEL_f285411ba6994a4d862b88ade157286e"
          }
        },
        "97d187cc599649cd847019f0a4f2a079": {
          "model_module": "@jupyter-widgets/controls",
          "model_name": "FloatProgressModel",
          "model_module_version": "1.5.0",
          "state": {
            "_view_name": "ProgressView",
            "style": "IPY_MODEL_f5b01947c7ad4113bf2895de90600ac3",
            "_dom_classes": [],
            "description": "",
            "_model_name": "FloatProgressModel",
            "bar_style": "success",
            "max": 100,
            "_view_module": "@jupyter-widgets/controls",
            "_model_module_version": "1.5.0",
            "value": 100,
            "_view_count": null,
            "_view_module_version": "1.5.0",
            "orientation": "horizontal",
            "min": 0,
            "description_tooltip": null,
            "_model_module": "@jupyter-widgets/controls",
            "layout": "IPY_MODEL_3c90f4c83d0f45659ce714d68ba44174"
          }
        },
        "035eeb4bb6c248e897b8ffbee07edfbe": {
          "model_module": "@jupyter-widgets/controls",
          "model_name": "HTMLModel",
          "model_module_version": "1.5.0",
          "state": {
            "_view_name": "HTMLView",
            "style": "IPY_MODEL_922a65dbd1e24d8c97a11301c6ee3c4b",
            "_dom_classes": [],
            "description": "",
            "_model_name": "HTMLModel",
            "placeholder": "​",
            "_view_module": "@jupyter-widgets/controls",
            "_model_module_version": "1.5.0",
            "value": " 100/100 [08:44&lt;00:00,  5.45s/it]",
            "_view_count": null,
            "_view_module_version": "1.5.0",
            "description_tooltip": null,
            "_model_module": "@jupyter-widgets/controls",
            "layout": "IPY_MODEL_7b498099660d4925a5ffd8b3f5f81304"
          }
        },
        "89e73715d5b640c6b3a9337a90038044": {
          "model_module": "@jupyter-widgets/controls",
          "model_name": "DescriptionStyleModel",
          "model_module_version": "1.5.0",
          "state": {
            "_view_name": "StyleView",
            "_model_name": "DescriptionStyleModel",
            "description_width": "",
            "_view_module": "@jupyter-widgets/base",
            "_model_module_version": "1.5.0",
            "_view_count": null,
            "_view_module_version": "1.2.0",
            "_model_module": "@jupyter-widgets/controls"
          }
        },
        "f285411ba6994a4d862b88ade157286e": {
          "model_module": "@jupyter-widgets/base",
          "model_name": "LayoutModel",
          "model_module_version": "1.2.0",
          "state": {
            "_view_name": "LayoutView",
            "grid_template_rows": null,
            "right": null,
            "justify_content": null,
            "_view_module": "@jupyter-widgets/base",
            "overflow": null,
            "_model_module_version": "1.2.0",
            "_view_count": null,
            "flex_flow": null,
            "width": null,
            "min_width": null,
            "border": null,
            "align_items": null,
            "bottom": null,
            "_model_module": "@jupyter-widgets/base",
            "top": null,
            "grid_column": null,
            "overflow_y": null,
            "overflow_x": null,
            "grid_auto_flow": null,
            "grid_area": null,
            "grid_template_columns": null,
            "flex": null,
            "_model_name": "LayoutModel",
            "justify_items": null,
            "grid_row": null,
            "max_height": null,
            "align_content": null,
            "visibility": null,
            "align_self": null,
            "height": null,
            "min_height": null,
            "padding": null,
            "grid_auto_rows": null,
            "grid_gap": null,
            "max_width": null,
            "order": null,
            "_view_module_version": "1.2.0",
            "grid_template_areas": null,
            "object_position": null,
            "object_fit": null,
            "grid_auto_columns": null,
            "margin": null,
            "display": null,
            "left": null
          }
        },
        "f5b01947c7ad4113bf2895de90600ac3": {
          "model_module": "@jupyter-widgets/controls",
          "model_name": "ProgressStyleModel",
          "model_module_version": "1.5.0",
          "state": {
            "_view_name": "StyleView",
            "_model_name": "ProgressStyleModel",
            "description_width": "",
            "_view_module": "@jupyter-widgets/base",
            "_model_module_version": "1.5.0",
            "_view_count": null,
            "_view_module_version": "1.2.0",
            "bar_color": null,
            "_model_module": "@jupyter-widgets/controls"
          }
        },
        "3c90f4c83d0f45659ce714d68ba44174": {
          "model_module": "@jupyter-widgets/base",
          "model_name": "LayoutModel",
          "model_module_version": "1.2.0",
          "state": {
            "_view_name": "LayoutView",
            "grid_template_rows": null,
            "right": null,
            "justify_content": null,
            "_view_module": "@jupyter-widgets/base",
            "overflow": null,
            "_model_module_version": "1.2.0",
            "_view_count": null,
            "flex_flow": null,
            "width": null,
            "min_width": null,
            "border": null,
            "align_items": null,
            "bottom": null,
            "_model_module": "@jupyter-widgets/base",
            "top": null,
            "grid_column": null,
            "overflow_y": null,
            "overflow_x": null,
            "grid_auto_flow": null,
            "grid_area": null,
            "grid_template_columns": null,
            "flex": null,
            "_model_name": "LayoutModel",
            "justify_items": null,
            "grid_row": null,
            "max_height": null,
            "align_content": null,
            "visibility": null,
            "align_self": null,
            "height": null,
            "min_height": null,
            "padding": null,
            "grid_auto_rows": null,
            "grid_gap": null,
            "max_width": null,
            "order": null,
            "_view_module_version": "1.2.0",
            "grid_template_areas": null,
            "object_position": null,
            "object_fit": null,
            "grid_auto_columns": null,
            "margin": null,
            "display": null,
            "left": null
          }
        },
        "922a65dbd1e24d8c97a11301c6ee3c4b": {
          "model_module": "@jupyter-widgets/controls",
          "model_name": "DescriptionStyleModel",
          "model_module_version": "1.5.0",
          "state": {
            "_view_name": "StyleView",
            "_model_name": "DescriptionStyleModel",
            "description_width": "",
            "_view_module": "@jupyter-widgets/base",
            "_model_module_version": "1.5.0",
            "_view_count": null,
            "_view_module_version": "1.2.0",
            "_model_module": "@jupyter-widgets/controls"
          }
        },
        "7b498099660d4925a5ffd8b3f5f81304": {
          "model_module": "@jupyter-widgets/base",
          "model_name": "LayoutModel",
          "model_module_version": "1.2.0",
          "state": {
            "_view_name": "LayoutView",
            "grid_template_rows": null,
            "right": null,
            "justify_content": null,
            "_view_module": "@jupyter-widgets/base",
            "overflow": null,
            "_model_module_version": "1.2.0",
            "_view_count": null,
            "flex_flow": null,
            "width": null,
            "min_width": null,
            "border": null,
            "align_items": null,
            "bottom": null,
            "_model_module": "@jupyter-widgets/base",
            "top": null,
            "grid_column": null,
            "overflow_y": null,
            "overflow_x": null,
            "grid_auto_flow": null,
            "grid_area": null,
            "grid_template_columns": null,
            "flex": null,
            "_model_name": "LayoutModel",
            "justify_items": null,
            "grid_row": null,
            "max_height": null,
            "align_content": null,
            "visibility": null,
            "align_self": null,
            "height": null,
            "min_height": null,
            "padding": null,
            "grid_auto_rows": null,
            "grid_gap": null,
            "max_width": null,
            "order": null,
            "_view_module_version": "1.2.0",
            "grid_template_areas": null,
            "object_position": null,
            "object_fit": null,
            "grid_auto_columns": null,
            "margin": null,
            "display": null,
            "left": null
          }
        }
      }
    }
  },
  "cells": [
    {
      "cell_type": "markdown",
      "source": [
        "### Karim Moumene AMROUCHE\n",
        "### Neila ZAROUTA"
      ],
      "metadata": {
        "id": "5pao1SrDaMEo"
      }
    },
    {
      "cell_type": "markdown",
      "source": [
        "# Imports"
      ],
      "metadata": {
        "id": "7WbNLvgznbGi"
      }
    },
    {
      "cell_type": "code",
      "source": [
        "%%capture\n",
        "!pip install pytorch-lightning\n",
        "  "
      ],
      "metadata": {
        "id": "7JbBZppEX1IB"
      },
      "execution_count": 1,
      "outputs": []
    },
    {
      "cell_type": "code",
      "source": [
        "import torch\n",
        "import numpy as np\n",
        "from torch import nn\n",
        "from tqdm.auto import tqdm\n",
        "from sklearn.metrics import accuracy_score\n",
        "\n",
        "import torchvision\n",
        "import torchvision.transforms as transforms\n",
        "import torch.nn as nn\n",
        "import pytorch_lightning as pl\n",
        "\n",
        "from torchvision.datasets import ImageFolder\n",
        "from torch.utils.data import random_split, DataLoader\n",
        "\n",
        "import torch.nn as nn\n",
        "import torch.optim as optim\n",
        "\n",
        "from sklearn.metrics import confusion_matrix, roc_curve\n",
        "import matplotlib.pyplot as plt\n",
        "import seaborn as sn\n",
        "import pandas as pd\n"
      ],
      "metadata": {
        "id": "JBO0nyDjncHc"
      },
      "execution_count": 2,
      "outputs": []
    },
    {
      "cell_type": "markdown",
      "source": [
        "# Convolutional Neural Networks\n",
        "\n",
        "For this homework you will train a CNN on the Hymenoptera dataset that you can download from here:\n",
        "\n",
        "- https://download.pytorch.org/tutorial/hymenoptera_data.zip\n",
        "\n",
        "You will code any CNN architecture that you want for this, using pytorch and/or pytorch-lightning (you can use only pytorch is you want)"
      ],
      "metadata": {
        "id": "xFiKKzjph4nH"
      }
    },
    {
      "cell_type": "markdown",
      "source": [
        "## Load the dataset\n",
        "\n",
        "**QUESTION.** Load the dataset into two dataloaders, one from training and the other for validation.\n",
        "\n",
        "- You can use `torchvision.datasets.ImageFolder` and pass it to `DataLoader` for this, have a look at the documentation\n",
        "- In the transformations, you should resize the images to make things faster (using the size of CIFAR-10's images for instance), and use some data augmentation (only for the training dataloader, of course) "
      ],
      "metadata": {
        "id": "-y2ImP4HiAwv"
      }
    },
    {
      "cell_type": "code",
      "source": [
        "import zipfile\n",
        "with zipfile.ZipFile(\"hymenoptera_data.zip\",\"r\") as zip_ref:\n",
        "    zip_ref.extractall(\"\")"
      ],
      "metadata": {
        "id": "h4Lpsv94TSCl"
      },
      "execution_count": 3,
      "outputs": []
    },
    {
      "cell_type": "code",
      "source": [
        "train = torchvision.datasets.ImageFolder(\n",
        "    root = './hymenoptera_data/train/',\n",
        "    transform = transforms.Compose([ \n",
        "         \n",
        "        transforms.Resize((32,32)),                                                                 \n",
        "        transforms.ToTensor()                                 \n",
        "    ])\n",
        ")\n",
        "\n",
        "valid = torchvision.datasets.ImageFolder(\n",
        "    root = './hymenoptera_data/val/',\n",
        "    transform = transforms.Compose([\n",
        "        transforms.Resize((32,32)),\n",
        "        transforms.ToTensor()                                 \n",
        "    ])\n",
        ")"
      ],
      "metadata": {
        "id": "BT8YtoktWgmw"
      },
      "execution_count": 4,
      "outputs": []
    },
    {
      "cell_type": "code",
      "source": [
        "num_workers = 16\n",
        "\n",
        "hym_train_loader = DataLoader(train, batch_size=6, num_workers=num_workers, shuffle=True)\n",
        "hym_valid_loader = DataLoader(valid, batch_size=64, num_workers=num_workers)\n",
        "\n",
        "classes = train.classes"
      ],
      "metadata": {
        "colab": {
          "base_uri": "https://localhost:8080/"
        },
        "id": "q5Tdl2jdWme9",
        "outputId": "44d4fd4c-84eb-42ed-a49a-4ce86b8b13a9"
      },
      "execution_count": 5,
      "outputs": [
        {
          "output_type": "stream",
          "name": "stderr",
          "text": [
            "/usr/local/lib/python3.7/dist-packages/torch/utils/data/dataloader.py:481: UserWarning: This DataLoader will create 16 worker processes in total. Our suggested max number of worker in current system is 2, which is smaller than what this DataLoader is going to create. Please be aware that excessive worker creation might get DataLoader running slow or even freeze, lower the worker number to avoid potential slowness/freeze if necessary.\n",
            "  cpuset_checked))\n"
          ]
        }
      ]
    },
    {
      "cell_type": "markdown",
      "source": [
        "**QUESTION.** Display some images and their associated labels. You should see images of bees and ants :)"
      ],
      "metadata": {
        "id": "p1KqAINXiNhj"
      }
    },
    {
      "cell_type": "code",
      "source": [
        "import numpy as np\n",
        "import matplotlib.pyplot as plt\n",
        "\n",
        "def show_images(img):\n",
        "    plt.figure(figsize=(8, 8))\n",
        "    plt.imshow(np.transpose(img, (1, 2, 0)))\n",
        "    plt.xticks(())\n",
        "    plt.yticks(())\n",
        "    plt.show()\n",
        "\n",
        "hym_train_iter = iter(hym_train_loader)\n",
        "images, labels = next(hym_train_iter)\n",
        "show_images(torchvision.utils.make_grid(images))\n",
        "print('    '.join('%5s' % classes[labels[j]] for j in range(6)))"
      ],
      "metadata": {
        "colab": {
          "base_uri": "https://localhost:8080/",
          "height": 183
        },
        "id": "LeO38JSWXQPb",
        "outputId": "9060c422-fac1-4bea-f158-777a2f838610"
      },
      "execution_count": 6,
      "outputs": [
        {
          "output_type": "stream",
          "name": "stderr",
          "text": [
            "/usr/local/lib/python3.7/dist-packages/torch/utils/data/dataloader.py:481: UserWarning: This DataLoader will create 16 worker processes in total. Our suggested max number of worker in current system is 2, which is smaller than what this DataLoader is going to create. Please be aware that excessive worker creation might get DataLoader running slow or even freeze, lower the worker number to avoid potential slowness/freeze if necessary.\n",
            "  cpuset_checked))\n"
          ]
        },
        {
          "output_type": "display_data",
          "data": {
            "image/png": "[encoded data removed]",
            "text/plain": [
              "<Figure size 576x576 with 1 Axes>"
            ]
          },
          "metadata": {}
        },
        {
          "output_type": "stream",
          "name": "stdout",
          "text": [
            " ants     bees     bees     ants     bees     bees\n"
          ]
        }
      ]
    },
    {
      "cell_type": "markdown",
      "source": [
        "\n",
        "\n",
        "---\n",
        "\n",
        "\n",
        "\n",
        "---\n",
        "\n"
      ],
      "metadata": {
        "id": "kYUTCSHAXe1G"
      }
    },
    {
      "cell_type": "code",
      "source": [
        "class DataModule(pl.LightningDataModule):\n",
        "    \"\"\"DATA MODULE\n",
        "    \"\"\"\n",
        "\n",
        "    def __init__(self, data_dir: str = './', image_size: int = 224, batch_size: int = 128, num_workers: int = 2,\n",
        "                 val_size: float = 0.2, **kwargs):\n",
        "        super().__init__()\n",
        "        self.data_dir = data_dir\n",
        "        self.transform_train = transforms.Compose([\n",
        "            transforms.Resize((image_size + 4, image_size + 4)),\n",
        "            transforms.RandomCrop((image_size, image_size)),\n",
        "            transforms.RandomHorizontalFlip(),\n",
        "            transforms.ToTensor(),\n",
        "            transforms.Normalize((0.4914, 0.4822, 0.4465), (0.2023, 0.1994, 0.2010)),\n",
        "        ])\n",
        "\n",
        "        self.transform_test = transforms.Compose([\n",
        "            transforms.Resize((image_size, image_size)),\n",
        "            transforms.ToTensor(),\n",
        "            transforms.Normalize((0.4914, 0.4822, 0.4465), (0.2023, 0.1994, 0.2010)),\n",
        "        ])\n",
        "\n",
        "        self.batch_size = batch_size\n",
        "        self.num_workers = num_workers\n",
        "        self.val_size = val_size\n",
        "\n",
        "        self.dims = (3, image_size, image_size)\n",
        "\n",
        "    def setup(self, stage: str = None):\n",
        "\n",
        "        # Assign train/val datasets for use in dataloaders\n",
        "        if stage == 'fit' or stage is None:\n",
        "            dataset = ImageFolder(f\"{self.data_dir}/train\", transform=self.transform_train)\n",
        "            val_size = int(len(dataset) * self.val_size)\n",
        "            self.dataset_train, self.dataset_val = random_split(dataset, [len(dataset) - val_size, val_size])\n",
        "\n",
        "        # Assign test dataset for use in dataloader(s)\n",
        "        if stage == 'test' or stage is None:\n",
        "            self.dataset_test = ImageFolder(f\"{self.data_dir}/val\", transform=self.transform_test)\n",
        "\n",
        "    def train_dataloader(self):\n",
        "        return DataLoader(self.dataset_train, batch_size=self.batch_size, shuffle=True, num_workers=self.num_workers)\n",
        "\n",
        "    def val_dataloader(self):\n",
        "        return DataLoader(self.dataset_val, batch_size=self.batch_size, shuffle=False, num_workers=self.num_workers)\n",
        "\n",
        "    def test_dataloader(self):\n",
        "        return DataLoader(self.dataset_test, batch_size=self.batch_size, shuffle=False, num_workers=self.num_workers)\n"
      ],
      "metadata": {
        "id": "XT9bKS_WsoVV"
      },
      "execution_count": 7,
      "outputs": []
    },
    {
      "cell_type": "code",
      "source": [
        "datamodule = DataModule(data_dir=\"hymenoptera_data\", num_workers=2, batch_size=16)\n",
        "datamodule.setup()"
      ],
      "metadata": {
        "colab": {
          "base_uri": "https://localhost:8080/"
        },
        "id": "nVSCs-KatJfJ",
        "outputId": "c5fceec4-bbee-49d8-cf0f-840518a2f8a8"
      },
      "execution_count": 8,
      "outputs": [
        {
          "output_type": "stream",
          "name": "stderr",
          "text": [
            "/usr/local/lib/python3.7/dist-packages/pytorch_lightning/core/datamodule.py:175: LightningDeprecationWarning: DataModule property `dims` was deprecated in v1.5 and will be removed in v1.7.\n",
            "  rank_zero_deprecation(\"DataModule property `dims` was deprecated in v1.5 and will be removed in v1.7.\")\n"
          ]
        }
      ]
    },
    {
      "cell_type": "markdown",
      "source": [
        "## Neural net architecture\n",
        "\n",
        "You are free to define any kind of convolutional neural network that you think is reasonable for today's problem.\n",
        "Remember that convolutional neural networks are usually a combination of the following building blocks:\n",
        "\n",
        "  * Convolutional layers\n",
        "  * Pooling layers\n",
        "  * Linear layers\n",
        "  \n",
        "It is your task today to arrange these components into a reasonable architecture."
      ],
      "metadata": {
        "id": "b5J6OlDtm4hz"
      }
    },
    {
      "cell_type": "code",
      "source": [
        "class ConvNet(nn.Module):\n",
        "    def __init__(self, ):\n",
        "        super(ConvNet, self).__init__()\n",
        "\n",
        "        self.encoder = nn.Sequential(\n",
        "            nn.Conv2d(3, 8, kernel_size=(3, 3), stride=(1, 1), padding=(1, 1)),\n",
        "            nn.ReLU(inplace=True),\n",
        "            nn.MaxPool2d(kernel_size=2, stride=2, padding=0, dilation=1, ceil_mode=False),\n",
        "            nn.Conv2d(8, 16, kernel_size=(3, 3), stride=(1, 1), padding=(1, 1)),\n",
        "            nn.ReLU(inplace=True),\n",
        "            nn.MaxPool2d(kernel_size=2, stride=2, padding=0, dilation=1, ceil_mode=False),\n",
        "            nn.Conv2d(16, 32, kernel_size=(3, 3), stride=(1, 1), padding=(1, 1)),\n",
        "            nn.ReLU(inplace=True),\n",
        "            nn.MaxPool2d(kernel_size=2, stride=2, padding=0, dilation=1, ceil_mode=False),\n",
        "            nn.Conv2d(32, 64, kernel_size=(3, 3), stride=(1, 1), padding=(1, 1)),\n",
        "            nn.ReLU(inplace=True),\n",
        "            nn.MaxPool2d(kernel_size=2, stride=2, padding=0, dilation=1, ceil_mode=False),\n",
        "            nn.Conv2d(64, 128, kernel_size=(3, 3), stride=(1, 1), padding=(1, 1)),\n",
        "            nn.ReLU(inplace=True),\n",
        "            nn.MaxPool2d(kernel_size=2, stride=2, padding=0, dilation=1, ceil_mode=False),\n",
        "            \n",
        "            nn.Conv2d(128, 256, kernel_size=(3, 3), stride=(1, 1), padding=(1, 1)),\n",
        "            nn.ReLU(inplace=True),\n",
        "            nn.MaxPool2d(kernel_size=2, stride=2, padding=0, dilation=1, ceil_mode=False),\n",
        "            \n",
        "            nn.Conv2d(256, 1024, kernel_size=(3, 3), stride=(1, 1), padding=(1, 1)),\n",
        "            nn.ReLU(inplace=True),\n",
        "            nn.MaxPool2d(kernel_size=2, stride=2, padding=0, dilation=1, ceil_mode=False),\n",
        "\n",
        "        )\n",
        "\n",
        "        self.classifier = nn.Sequential(\n",
        "            nn.Linear(in_features=1024, out_features=128, bias=True),\n",
        "            nn.ReLU(inplace=True),\n",
        "            nn.Dropout(p=0.5, inplace=False),\n",
        "            nn.Linear(in_features=128, out_features=64, bias=True),\n",
        "            nn.ReLU(inplace=True),\n",
        "            # nn.Dropout(p=0.5, inplace=False),\n",
        "            nn.Linear(in_features=64, out_features=32, bias=True),\n",
        "            nn.ReLU(inplace=True),\n",
        "            #nn.Dropout(p=0.5, inplace=False),\n",
        "            nn.Linear(in_features=32, out_features=16, bias=True),\n",
        "            nn.ReLU(inplace=True),\n",
        "            #nn.Dropout(p=0.5, inplace=False),\n",
        "            nn.Linear(in_features=16, out_features=8, bias=True),\n",
        "            nn.ReLU(inplace=True),\n",
        "            # nn.Dropout(p=0.5, inplace=False),\n",
        "            nn.Linear(in_features=8, out_features=1, bias=True),\n",
        "        )\n",
        "\n",
        "    def forward(self, x):\n",
        "        x = self.encoder(x)\n",
        "        x = torch.flatten(x, 1)\n",
        "        x = self.classifier(x)\n",
        "        return x\n"
      ],
      "metadata": {
        "id": "D2EgDHupm5CO"
      },
      "execution_count": 9,
      "outputs": []
    },
    {
      "cell_type": "code",
      "source": [
        "@torch.no_grad()\n",
        "def eval_classifier(model, dataloader, criterion, device):\n",
        "    model.eval()\n",
        "    loss = []\n",
        "    pred = []\n",
        "    y_true = []\n",
        "    for x, y in dataloader:\n",
        "        x, y = x.to(device), y.to(device)\n",
        "        logits = model(x).flatten()\n",
        "        loss.append(criterion(logits, y.float()).item())\n",
        "        pred += (logits > 0.5).long().cpu().detach().numpy().flatten().tolist()\n",
        "        y_true += y.cpu().detach().numpy().flatten().tolist()\n",
        "    acc = accuracy_score(y_true=y_true, y_pred=pred)\n",
        "    return np.mean(loss), acc\n",
        "\n",
        "def train_classifier(\n",
        "        model,\n",
        "        train_loader,\n",
        "        val_loader,\n",
        "        criterion,\n",
        "        optimizer,\n",
        "        epochs=int(1e2),\n",
        "        random_seed= 47,\n",
        "):\n",
        "    np.random.seed(random_seed)\n",
        "    torch.manual_seed(random_seed)\n",
        "\n",
        "    if torch.cuda.is_available():\n",
        "        device = torch.device(\"cuda\")\n",
        "        torch.backends.cudnn.benchmark = True\n",
        "    else:\n",
        "        device = torch.device(\"cpu\")\n",
        "\n",
        "    model = model.to(device)\n",
        "    model = nn.DataParallel(model)\n",
        "\n",
        "    pbar = tqdm(range(epochs), total=epochs)\n",
        "    for epoch in pbar:\n",
        "        model.train()\n",
        "        epoch_loss = []\n",
        "        for x, y in train_loader:\n",
        "            x, y = x.to(device), y.to(device)\n",
        "            optimizer.zero_grad()\n",
        "            y_hat = model(x).flatten()\n",
        "            loss = criterion(y_hat.flatten(), y.float())\n",
        "            loss.backward()\n",
        "            epoch_loss.append(loss.item())\n",
        "            optimizer.step()\n",
        "\n",
        "        train_loss, train_acc = eval_classifier(model, train_loader, criterion, device)\n",
        "        test_loss, test_acc = eval_classifier(model, val_loader, criterion, device)\n",
        "\n",
        "        pbar.set_description(\n",
        "            f'Epoch: {epoch}, Train Loss: {np.round(train_loss, 3)} Acc: {np.round(train_acc, 3)}\\tTest Loss: {np.round(test_loss, 3)} Acc: {np.round(test_acc, 3)}')\n"
      ],
      "metadata": {
        "id": "1Kw9ovWoq9IU"
      },
      "execution_count": 10,
      "outputs": []
    },
    {
      "cell_type": "markdown",
      "source": [
        "## Training loop and checks\n",
        "\n",
        "**QUESTION**. Code the training loop (specify the loss, etc.). Check that everything is fine, that the forward pass works and that training on a very small subset of the data works as well. Add the callbacks that you want, and prepare the logging tools that you want to use (such as tensorboard, or anything you want to use."
      ],
      "metadata": {
        "id": "M4MwAnX4n-cU"
      }
    },
    {
      "cell_type": "code",
      "source": [
        "criterion = nn.BCEWithLogitsLoss()"
      ],
      "metadata": {
        "id": "mjVlmMtn2IEl"
      },
      "execution_count": 11,
      "outputs": []
    },
    {
      "cell_type": "code",
      "source": [
        "net_1 = ConvNet()\n",
        "optimizer_1 = optim.Adam(net_1.parameters(), lr=0.001)"
      ],
      "metadata": {
        "id": "p1jrUa6mn_Fq"
      },
      "execution_count": 12,
      "outputs": []
    },
    {
      "cell_type": "code",
      "source": [
        "train_classifier(\n",
        "    model= net_1,\n",
        "    train_loader= datamodule.train_dataloader(),\n",
        "    val_loader= datamodule.val_dataloader(),\n",
        "    criterion= criterion,\n",
        "    optimizer= optimizer_1,\n",
        "    epochs=int(1e2)\n",
        ")"
      ],
      "metadata": {
        "colab": {
          "base_uri": "https://localhost:8080/",
          "height": 49,
          "referenced_widgets": [
            "bbd29b3253d947e99d4d818f5b8948dd",
            "efb35f9562534277975a6af3b8ac5f38",
            "a4eecd5a16bb481ab0ad7ae223b9d835",
            "b2ebea0ad75d470a807a7b53fe7e2f1e",
            "4b21b22d2f534469af853b52a6af6f88",
            "36b57c5bf26b4a42b9b98267e90e60d2",
            "148d43e1a8b94833b17fc9352e708954",
            "be09b7ba7b264cceb087df32e3bf0e7d",
            "a5b63ade337c48f1a94f2984e59a09cc",
            "c20df9fd19244436bee160165f65ef81",
            "4e1173c07c9b407d9f47cfd137a6f951"
          ]
        },
        "id": "bzGtg1jHqvT5",
        "outputId": "4c1422c3-511a-4bf8-8864-41bf29641f2d"
      },
      "execution_count": 13,
      "outputs": [
        {
          "output_type": "display_data",
          "data": {
            "application/vnd.jupyter.widget-view+json": {
              "model_id": "bbd29b3253d947e99d4d818f5b8948dd",
              "version_minor": 0,
              "version_major": 2
            },
            "text/plain": [
              "  0%|          | 0/100 [00:00<?, ?it/s]"
            ]
          },
          "metadata": {}
        }
      ]
    },
    {
      "cell_type": "markdown",
      "source": [
        "## Measure the performance of you model\n",
        "\n",
        "Measure the performance of your model, and display some things (such as confusion matrix, ROC or AUC curves).\n",
        "Compare several architectures, put your results in an easy to interpret pandas dataframe."
      ],
      "metadata": {
        "id": "_4yHQmojrKOz"
      }
    },
    {
      "cell_type": "code",
      "source": [
        "def conf_mat(model, dataloader):\n",
        "  pred = []\n",
        "  y_true = []\n",
        "  classes = ('Bee','Ant')\n",
        "  device = torch.device(\"cuda\")\n",
        "  for x, y in dataloader:\n",
        "        x, y = x.to(device), y.to(device)\n",
        "        logits = model(x).flatten()\n",
        "        pred += (logits > 0.5).long().cpu().detach().numpy().flatten().tolist()\n",
        "        y_true += y.cpu().detach().numpy().flatten().tolist()\n",
        "  r_curve = roc_curve(y_true, pred)\n",
        "  cf_matrix = confusion_matrix(y_true, pred, normalize='true')\n",
        "  df_cm = pd.DataFrame(cf_matrix , index = [i for i in classes], columns = [i for i in classes])\n",
        "  plt.figure(figsize = (12,7))\n",
        "  plt.title('Confusion matrix')\n",
        "  sn.heatmap(df_cm, annot=True)\n",
        "\n",
        "def plot_roc_cur(model, dataloader):  \n",
        "    pred = []\n",
        "    y_true = []\n",
        "    classes = ('Bee','Ant')\n",
        "    device = torch.device(\"cuda\")\n",
        "    for x, y in dataloader: \n",
        "        x, y = x.to(device), y.to(device)\n",
        "        logits = model(x).flatten()\n",
        "        pred += (logits > 0.5).long().cpu().detach().numpy().flatten().tolist()\n",
        "        y_true += y.cpu().detach().numpy().flatten().tolist()\n",
        "    fper, tper, thresholds = roc_curve(y_true, pred)\n",
        "    plt.plot(fper, tper, color='orange', label='ROC')\n",
        "    plt.plot([0, 1], [0, 1], color='darkblue', linestyle='--')\n",
        "    plt.xlabel('False Positive Rate')\n",
        "    plt.ylabel('True Positive Rate')\n",
        "    plt.title('Receiver Operating Characteristic (ROC) Curve')\n",
        "    plt.legend()\n",
        "    plt.show()\n"
      ],
      "metadata": {
        "id": "Haww71tkrK6l"
      },
      "execution_count": 14,
      "outputs": []
    },
    {
      "cell_type": "markdown",
      "source": [
        "## Use fine-tuning and transfer learning\n",
        "\n",
        "You might have noticed that training a CNN from scratch can be very slow, hard, painful, and that the overall performance might not be satisfying. \n",
        "\n",
        "**QUESTION.** To overcome this, use a pre-trained network and fine-tune it on the Hymenoptera dataset.\n",
        "You are free to choose any pre-trained model that the PyTorch library offers evaluate and compare its performance to the CNN you have built yourself."
      ],
      "metadata": {
        "id": "JRZ2NtSNrO_S"
      }
    },
    {
      "cell_type": "code",
      "source": [
        "class FinTunedVGG(nn.Module):\n",
        "    def __init__(self, ):\n",
        "        super(FinTunedVGG, self).__init__()\n",
        "\n",
        "        self.encoder = torchvision.models.vgg11(pretrained=True, progress=True).features\n",
        "\n",
        "        for param in self.encoder.parameters():\n",
        "            param.requires_grad = False\n",
        "\n",
        "        self.avgpool = nn.AdaptiveAvgPool2d(output_size=(7, 7))\n",
        "        self.classifier = nn.Sequential(\n",
        "            nn.Linear(in_features=25088, out_features=1, bias=True),\n",
        "        )\n",
        "\n",
        "    def forward(self, x):\n",
        "        x = self.encoder(x)\n",
        "        x = torch.flatten(x, 1)\n",
        "        x = self.classifier(x)\n",
        "        return x\n"
      ],
      "metadata": {
        "id": "B757TpvnrPuJ"
      },
      "execution_count": 15,
      "outputs": []
    },
    {
      "cell_type": "code",
      "source": [
        "net_2 = FinTunedVGG()\n",
        "optimizer_2 = optim.Adam(net_2.parameters(), lr=0.001)"
      ],
      "metadata": {
        "id": "i9DmoJRFrhqd"
      },
      "execution_count": 16,
      "outputs": []
    },
    {
      "cell_type": "code",
      "source": [
        "train_classifier(\n",
        "    model= net_2,\n",
        "    train_loader= datamodule.train_dataloader(),\n",
        "    val_loader= datamodule.val_dataloader(),\n",
        "    criterion= criterion,\n",
        "    optimizer= optimizer_2,\n",
        "    epochs=int(1e2)\n",
        ")"
      ],
      "metadata": {
        "colab": {
          "base_uri": "https://localhost:8080/",
          "height": 49,
          "referenced_widgets": [
            "8f682f1c1bc04e018804c03db53646ec",
            "117dacda2f1f40d094b20cbc36d113ab",
            "ef1362659772472b989ebd65650525a8",
            "97d187cc599649cd847019f0a4f2a079",
            "035eeb4bb6c248e897b8ffbee07edfbe",
            "89e73715d5b640c6b3a9337a90038044",
            "f285411ba6994a4d862b88ade157286e",
            "f5b01947c7ad4113bf2895de90600ac3",
            "3c90f4c83d0f45659ce714d68ba44174",
            "922a65dbd1e24d8c97a11301c6ee3c4b",
            "7b498099660d4925a5ffd8b3f5f81304"
          ]
        },
        "id": "eVvQL0mGsBFH",
        "outputId": "314bbffb-0e9c-4c34-8250-c5f97d2f33ab"
      },
      "execution_count": 17,
      "outputs": [
        {
          "output_type": "display_data",
          "data": {
            "application/vnd.jupyter.widget-view+json": {
              "model_id": "8f682f1c1bc04e018804c03db53646ec",
              "version_minor": 0,
              "version_major": 2
            },
            "text/plain": [
              "  0%|          | 0/100 [00:00<?, ?it/s]"
            ]
          },
          "metadata": {}
        }
      ]
    },
    {
      "cell_type": "code",
      "source": [
        "conf_mat(net_2, datamodule.val_dataloader())"
      ],
      "metadata": {
        "id": "HLwAeT-e2Buk",
        "colab": {
          "base_uri": "https://localhost:8080/",
          "height": 444
        },
        "outputId": "595a59e4-24bb-4004-98b8-373f7b513689"
      },
      "execution_count": 18,
      "outputs": [
        {
          "output_type": "display_data",
          "data": {
            "image/png": "[encoded data removed]",
            "text/plain": [
              "<Figure size 864x504 with 2 Axes>"
            ]
          },
          "metadata": {
            "needs_background": "light"
          }
        }
      ]
    },
    {
      "cell_type": "code",
      "source": [
        "plot_roc_cur(net_2, datamodule.val_dataloader())"
      ],
      "metadata": {
        "id": "C82zikap57Ed",
        "colab": {
          "base_uri": "https://localhost:8080/",
          "height": 295
        },
        "outputId": "d579686f-e9be-4aa6-efee-da9215e3edf3"
      },
      "execution_count": 19,
      "outputs": [
        {
          "output_type": "display_data",
          "data": {
            "image/png": "[encoded data removed]",
            "text/plain": [
              "<Figure size 432x288 with 1 Axes>"
            ]
          },
          "metadata": {
            "needs_background": "light"
          }
        }
      ]
    }
  ]
}